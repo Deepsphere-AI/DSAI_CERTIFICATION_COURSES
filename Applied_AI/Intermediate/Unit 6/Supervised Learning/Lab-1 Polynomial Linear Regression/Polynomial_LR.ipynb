{
  "nbformat": 4,
  "nbformat_minor": 0,
  "metadata": {
    "colab": {
      "name": "Polynomial LR",
      "provenance": [],
      "collapsed_sections": []
    },
    "kernelspec": {
      "name": "python3",
      "display_name": "Python 3"
    },
    "language_info": {
      "name": "python"
    }
  },
  "cells": [
    {
      "cell_type": "markdown",
      "source": [
        "### Copyright Notice\n",
        "\n",
        "Local and international copyright laws protect this material. Repurposing and reproducing this\n",
        "material from DeepSphere.AI violates the law"
      ],
      "metadata": {
        "id": "0Zawjx2r4ydF"
      }
    },
    {
      "cell_type": "code",
      "execution_count": null,
      "metadata": {
        "id": "O9PQtpbANMHV",
        "colab": {
          "base_uri": "https://localhost:8080/",
          "height": 434
        },
        "outputId": "9ad10655-37fa-480e-d10a-165ed8e5cda9"
      },
      "outputs": [
        {
          "output_type": "stream",
          "name": "stdout",
          "text": [
            "The input and Output values are\n",
            "[[  0]\n",
            " [ 20]\n",
            " [ 40]\n",
            " [ 60]\n",
            " [ 80]\n",
            " [100]] [2.0e-04 1.2e-03 6.0e-03 3.0e-02 9.0e-02 2.7e-01]\n",
            "The polynomial Linear Regression between two values is:\n"
          ]
        },
        {
          "output_type": "display_data",
          "data": {
            "text/plain": [
              "<Figure size 432x288 with 1 Axes>"
            ],
            "image/png": "[encoded data removed]"
          },
          "metadata": {
            "needs_background": "light"
          }
        }
      ],
      "source": [
        "import numpy as vAR_np\n",
        "import matplotlib.pyplot as vAR_plt\n",
        "import pandas as vAR_pd\n",
        "from sklearn.preprocessing import PolynomialFeatures\n",
        "from sklearn.linear_model import LinearRegression\n",
        "vAR_dataset = vAR_pd.read_csv(\"/content/data.csv\")\n",
        "\n",
        "class PolynomialLR:\n",
        "  def dataseperation(self,vAR_input,vAR_output):\n",
        "    print(vAR_input,vAR_output)\n",
        "  def visuals(self,vAR_input,vAR_output,vAR_LR,vAR_PLR):\n",
        "    vAR_plt.scatter(vAR_input, vAR_output, color = 'green')\n",
        "    vAR_plt.plot(vAR_input,vAR_LR.predict(vAR_PLR.fit_transform(vAR_input)), color = 'black')\n",
        "    vAR_plt.title('Polynomial Linear Regression')\n",
        "    vAR_plt.xlabel('Temp')\n",
        "    vAR_plt.ylabel('Pressure') \n",
        "    vAR_plt.show()\n",
        "\n",
        "def main():\n",
        "    vAR_Obj = PolynomialLR()   \n",
        "    vAR_input = vAR_dataset.iloc[:,1:2].values\n",
        "    vAR_output = vAR_dataset[\"Pressure\"].values\n",
        "  \n",
        "    vAR_PLR = PolynomialFeatures()\n",
        "    vAR_Pinput = vAR_PLR.fit_transform(vAR_input)\n",
        " \n",
        "    vAR_PLR.fit(vAR_Pinput, vAR_output)\n",
        "    vAR_LR = LinearRegression()\n",
        "    vAR_LR.fit(vAR_Pinput, vAR_output)\n",
        "\n",
        "    print(\"The input and Output values are\") \n",
        "    vAR_DS = vAR_Obj.dataseperation(vAR_input,vAR_output)\n",
        "    vAR_DS\n",
        "\n",
        "    print(\"The polynomial Linear Regression between two values is:\") \n",
        "    vAR_v = vAR_Obj.visuals(vAR_input,vAR_output,vAR_LR,vAR_PLR)\n",
        "    vAR_v\n",
        "\n",
        "if __name__==\"__main__\":\n",
        "    main()     \n"
      ]
    },
    {
      "cell_type": "markdown",
      "source": [
        "# Disclaimer\n",
        "\n",
        "      We are providing this code block strictly for learning and researching, this is not a production-ready code. We have no liability on this particular code under any circumstances;users should use this code at their own risk. All software, hardware and other products thatare referenced in these materials belong to the respective vendor who developed or who ownsthis product."
      ],
      "metadata": {
        "id": "gFMumQ8P4zNY"
      }
    },
    {
      "cell_type": "markdown",
      "source": [
        "**Author Signature**\n",
        "\n",
        "![image.png](data:image/png;base64,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)"
      ],
      "metadata": {
        "id": "xSf1ARjo452h"
      }
    }
  ]
}