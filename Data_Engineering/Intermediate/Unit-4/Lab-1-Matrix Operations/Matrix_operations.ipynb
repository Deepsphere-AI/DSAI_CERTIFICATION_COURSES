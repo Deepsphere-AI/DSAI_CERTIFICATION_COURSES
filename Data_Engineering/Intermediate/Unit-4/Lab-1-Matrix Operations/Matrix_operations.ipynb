{
  "nbformat": 4,
  "nbformat_minor": 0,
  "metadata": {
    "colab": {
      "name": "Matrix operations",
      "provenance": [],
      "collapsed_sections": []
    },
    "kernelspec": {
      "name": "python3",
      "display_name": "Python 3"
    },
    "language_info": {
      "name": "python"
    }
  },
  "cells": [
    {
      "cell_type": "markdown",
      "source": [
        "### Copyright Notice\n",
        "\n",
        "Local and international copyright laws protect this material. Repurposing and reproducing this\n",
        "material from DeepSphere.AI violates the law"
      ],
      "metadata": {
        "id": "pa9hM8R6RM3r"
      }
    },
    {
      "cell_type": "markdown",
      "source": [
        "## **Defining a matrix**"
      ],
      "metadata": {
        "id": "NLEpgQ_ClTpe"
      }
    },
    {
      "cell_type": "markdown",
      "source": [
        "A matrix is a 2-Dimensional array with one or more number of rows and columns.\n",
        "\n",
        "\n",
        "*   Matrix can be defined using Square [] or Round () brackets \n",
        "*   Matrix size is represented using mxn which is the size of the rows and Columns\n",
        "\n",
        "We will use Numpy library to implement an array to define a matrix\n",
        "\n",
        "\n"
      ],
      "metadata": {
        "id": "bR4YN0UAl37e"
      }
    },
    {
      "cell_type": "markdown",
      "source": [
        "### Matrix Operations"
      ],
      "metadata": {
        "id": "vqMtrdUpnljo"
      }
    },
    {
      "cell_type": "markdown",
      "source": [
        "**IMP : In order to perform Matrix Operations between two Matrices they need to be having same Size MxN**"
      ],
      "metadata": {
        "id": "2RIypQHRJGNs"
      }
    },
    {
      "cell_type": "markdown",
      "source": [
        "**Addition of two Matrices** - The addition of two matrices is done using '+' . eg:A+B\n",
        "\n",
        "which perform basic addition of values\n",
        "\n",
        "*IMP* : To perform addition operations both the matrix size must be same"
      ],
      "metadata": {
        "id": "Y069R6YHr5ka"
      }
    },
    {
      "cell_type": "markdown",
      "source": [
        "**Subtraction of two Matrices** - The subtraction of two matrices is done using '-' . eg:A-B.\n",
        "\n",
        "which perform basic subtraction of values\n",
        "\n",
        "*IMP* : To perform addition operations both the matrix size must be same"
      ],
      "metadata": {
        "id": "6vUU6th-tdMt"
      }
    },
    {
      "cell_type": "markdown",
      "source": [
        "**Multiplication of two Matrices ** - This is also known as Element wise Matrix Multiplication and It is performed using \"*\". eg:A*B "
      ],
      "metadata": {
        "id": "yw3zTZ6LuGJS"
      }
    },
    {
      "cell_type": "code",
      "source": [
        "from numpy import *\n",
        "import pandas as pd\n",
        "import numpy as np\n",
        " \n",
        "class MatrixOperation:\n",
        "  \n",
        "  def Addition(self,vAR_1,vAR_2):\n",
        "      if vAR_1.shape == vAR_2.shape:  \n",
        "        vAR_3 = vAR_1 + vAR_2\n",
        "      return(vAR_3)\n",
        "  def Subtraction(self,vAR_1,vAR_2):\n",
        "    if vAR_1.shape == vAR_2.shape: \n",
        "       vAR_3 = vAR_1 - vAR_2\n",
        "    return(vAR_3)\n",
        "  \n",
        "  def Multiplication(self,vAR_1,vAR_2):\n",
        "    if vAR_1.shape == vAR_2.shape:\n",
        "       vAR_3 = vAR_1 * vAR_2\n",
        "    return(vAR_3)\n",
        "  \n",
        "  def Division(self,vAR_1,vAR_2):\n",
        "    if vAR_1.shape == vAR_2.shape: \n",
        "       vAR_3 = vAR_1/vAR_2\n",
        "    return(vAR_3)\n",
        "  \n",
        "  def DotProduct(self,vAR_1,vAR_2):\n",
        "    if vAR_1.shape == vAR_2.shape:\n",
        "         vAR_rows_2 = len(vAR_2)\n",
        "         vAR_col_1 = len(vAR_1[0])\n",
        "         if vAR_rows_2 == vAR_col_1:        \n",
        "            vAR_3 = vAR_1.dot(vAR_2)\n",
        "         else:\n",
        "           vAR_3 = 0\n",
        "    return(vAR_3)\n",
        "    \n",
        "\n",
        "  def Squareroot(self,vAR_1,vAR_2):\n",
        "    if vAR_1.shape == vAR_2.shape:\n",
        "      vAR_ = sqrt(vAR_1)\n",
        "      vAR_3 = sqrt(vAR_2)\n",
        "    return(vAR_,vAR_3)\n",
        "  \n",
        "  def Summation(self,vAR_1,vAR_2):\n",
        "    if vAR_1.shape == vAR_2.shape: \n",
        "       vAR_ = sum(vAR_1)\n",
        "       vAR_3 = sum(vAR_2)\n",
        "    return(vAR_,vAR_3)\n",
        "  \n",
        "  def Summation2(self,vAR_1,vAR_2):\n",
        "    if vAR_1.shape == vAR_2.shape:\n",
        "       vAR_ = sum(vAR_1,axis=1) \n",
        "       vAR_3 = sum(vAR_2,axis=1)\n",
        "    return(vAR_,vAR_3)\n",
        "  \n",
        "  def Summation3(self,vAR_1,vAR_2):\n",
        "    if vAR_1.shape == vAR_2.shape: \n",
        "       vAR_ = sum(vAR_1,axis=0) \n",
        "       vAR_3 = sum(vAR_2,axis=0)\n",
        "    return(vAR_,vAR_3)\n",
        "  \n",
        "  def Vector(self,vAR_1,vAR_2):\n",
        "    #a vector has only one column  \n",
        "     vAR_vector = np.array([[21],[22]])\n",
        "     vAR_ = vAR_1.dot(vAR_vector)\n",
        "     vAR_3 = vAR_2.dot(vAR_vector)     \n",
        "     return vAR_,vAR_3  \n",
        "\n",
        "  def Scalar(self,vAR_1,vAR_2):\n",
        "      vAR_Scalar = 10\n",
        "      vAR_ = vAR_1 * vAR_Scalar\n",
        "      vAR_3 = vAR_2 * vAR_Scalar     \n",
        "      return vAR_,vAR_3  \n",
        "\n",
        "  def Trans(self,vAR_1,vAR_2):\n",
        "    if vAR_1.shape == vAR_2.shape: \n",
        "       vAR_ = (vAR_1.T)\n",
        "       vAR_3 = (vAR_2.T)\n",
        "    return vAR_,vAR_3\n",
        "  \n",
        "\n",
        "def main():\n",
        "  '''vAR_Row = int(input(\"Enter the number of rows:\"))   \n",
        "  vAR_Col = int(input(\"Enter the number of columns:\"))\n",
        "   \n",
        "  #input for matrix 1\n",
        "  print(\"Enter the entries for matrix 1: \")\n",
        "  vAR_entry1 = list(map(int, input().split()))\n",
        "  vAR_main1 = np.array(vAR_entry1).reshape(vAR_Row, vAR_Col)\n",
        "   \n",
        "  #input for matrix 2\n",
        "  print(\"Enter the entries for matrix 2: \")\n",
        "  vAR_entry2 = list(map(int, input().split()))\n",
        "  vAR_main2 = np.array(vAR_entry2).reshape(vAR_Row, vAR_Col)'''\n",
        "  vAR_main1 = np.array([[1,2],[4,5]])\n",
        "  vAR_main2 = np.array([[7,8],[3,10]])  \n",
        "  \n",
        "\n",
        "  \n",
        "  #function calling\n",
        "  vAR_Obj = MatrixOperation()\n",
        "  #Addition\n",
        "  vAR_Add = vAR_Obj.Addition(vAR_main1,vAR_main2)\n",
        "  print(\"Matrix Addition is : \")\n",
        "  print(vAR_Add)\n",
        "  \n",
        "  #Subtraction\n",
        "  vAR_Sub = vAR_Obj.Subtraction(vAR_main1,vAR_main2)\n",
        "  print(\"Matrix Subtraction is : \")\n",
        "  print(vAR_Sub)\n",
        "  \n",
        "  #Multiplication\n",
        "  vAR_Mul = vAR_Obj.Multiplication(vAR_main1,vAR_main2)\n",
        "  print(\"Matrix Multiplication is : \")\n",
        "  print(vAR_Mul)\n",
        "  \n",
        "  #Division\n",
        "  vAR_Div = vAR_Obj.Division(vAR_main1,vAR_main2)\n",
        "  print(\"Matrix Division is : \")\n",
        "  print(vAR_Div)\n",
        "\n",
        "  #Sum of all elements\n",
        "  vAR_Sum = vAR_Obj.Summation(vAR_main1,vAR_main2)\n",
        "  print(\"Matrix sum is : \")\n",
        "  print(vAR_Sum)\n",
        "\n",
        "\n",
        "  vAR_Sum2 = vAR_Obj.Summation2(vAR_main1,vAR_main2)\n",
        "  print(\"Matrix sum by row is : \")\n",
        "  print(vAR_Sum2)\n",
        "\n",
        "  vAR_Sum3 = vAR_Obj.Summation3(vAR_main1,vAR_main2)\n",
        "  print(\"Matrix sum by column is : \")\n",
        "  print(vAR_Sum3)\n",
        "\n",
        "  vAR_Trans = vAR_Obj.Trans(vAR_main1,vAR_main2)\n",
        "  print(\"Matrix Transportation is : \")\n",
        "  print(vAR_Trans)\n",
        "\n",
        "  vAR_sqrt = vAR_Obj.Squareroot(vAR_main1,vAR_main2)\n",
        "  print(\"Matrix square root is : \")\n",
        "  print(vAR_sqrt)\n",
        "  \n",
        "  #vector multiplication\n",
        "  vAR_vect = vAR_Obj.Vector(vAR_main1,vAR_main2)\n",
        "  print(\"Matrix vector multiplicaation is : \")\n",
        "  print(vAR_vect)\n",
        "\n",
        "  vAR_Scal = vAR_Obj.Scalar(vAR_main1,vAR_main2)\n",
        "  print(\"Matrix scalar multiplicaation is : \")\n",
        "  print(vAR_Scal)\n",
        "  \n",
        "  #DotProduct\n",
        "  vAR_Dot = vAR_Obj.DotProduct(vAR_main1,vAR_main2)\n",
        "  print(\" Dot Product is : \")\n",
        "  print(vAR_Dot)\n",
        "\n",
        "if __name__==\"__main__\":\n",
        "    main()    "
      ],
      "metadata": {
        "colab": {
          "base_uri": "https://localhost:8080/"
        },
        "id": "c82lC9APJdC-",
        "outputId": "2f351ce3-9e54-4e13-a618-8c99d960a8a9"
      },
      "execution_count": null,
      "outputs": [
        {
          "output_type": "stream",
          "name": "stdout",
          "text": [
            "Matrix Addition is : \n",
            "[[ 8 10]\n",
            " [ 7 15]]\n",
            "Matrix Subtraction is : \n",
            "[[-6 -6]\n",
            " [ 1 -5]]\n",
            "Matrix Multiplication is : \n",
            "[[ 7 16]\n",
            " [12 50]]\n",
            "Matrix Division is : \n",
            "[[0.14285714 0.25      ]\n",
            " [1.33333333 0.5       ]]\n",
            "Matrix sum is : \n",
            "(12, 28)\n",
            "Matrix sum by row is : \n",
            "(array([3, 9]), array([15, 13]))\n",
            "Matrix sum by column is : \n",
            "(array([5, 7]), array([10, 18]))\n",
            "Matrix Transportation is : \n",
            "(array([[1, 4],\n",
            "       [2, 5]]), array([[ 7,  3],\n",
            "       [ 8, 10]]))\n",
            "Matrix square root is : \n",
            "(array([[1.        , 1.41421356],\n",
            "       [2.        , 2.23606798]]), array([[2.64575131, 2.82842712],\n",
            "       [1.73205081, 3.16227766]]))\n",
            "Matrix vector multiplicaation is : \n",
            "(array([[ 65],\n",
            "       [194]]), array([[323],\n",
            "       [283]]))\n",
            "Matrix scalar multiplicaation is : \n",
            "(array([[10, 20],\n",
            "       [40, 50]]), array([[ 70,  80],\n",
            "       [ 30, 100]]))\n",
            " Dot Product is : \n",
            "[[13 28]\n",
            " [43 82]]\n"
          ]
        }
      ]
    },
    {
      "cell_type": "markdown",
      "source": [
        "# Disclaimer\n",
        "\n",
        "      We are providing this code block strictly for learning and researching, this is not a production-ready code. We have no liability on this particular code under any circumstances;users should use this code at their own risk. All software, hardware and other products thatare referenced in these materials belong to the respective vendor who developed or who ownsthis product."
      ],
      "metadata": {
        "id": "I_8bRd4lRW28"
      }
    },
    {
      "cell_type": "markdown",
      "source": [
        "**Author Signature**\n",
        "\n",
        "![image.png](data:image/png;base64,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)"
      ],
      "metadata": {
        "id": "zXiR3MacRbBQ"
      }
    }
  ]
}